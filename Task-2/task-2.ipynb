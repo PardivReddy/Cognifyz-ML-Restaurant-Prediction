{
 "cells": [
  {
   "cell_type": "code",
   "execution_count": 3,
   "id": "3297da89",
   "metadata": {},
   "outputs": [
    {
     "name": "stdout",
     "output_type": "stream",
     "text": [
      "Data loaded and split. X_train shape: (7633, 20)\n"
     ]
    }
   ],
   "source": [
    "#IMPROVING THE MODEL PERFORMANCE AND ANALYSIS\n",
    "#LOAD THE PREPROCESSED DATA\n",
    "import pandas as pd\n",
    "import numpy as np\n",
    "from sklearn.model_selection import train_test_split\n",
    "\n",
    "data = pd.read_csv('D:\\PardivReddy_Cognifyz\\content/preprocessed_data.csv')\n",
    "\n",
    "X = data.drop('Aggregate rating', axis=1)\n",
    "y = data['Aggregate rating']\n",
    "X_train, X_test, y_train, y_test = train_test_split(X, y, test_size=0.2, random_state=42)\n",
    "\n",
    "print(\"Data loaded and split. X_train shape:\", X_train.shape)"
   ]
  },
  {
   "cell_type": "code",
   "execution_count": 4,
   "id": "29f24a64",
   "metadata": {},
   "outputs": [
    {
     "name": "stdout",
     "output_type": "stream",
     "text": [
      "Model Evaluation:\n",
      "Mean Squared Error: 0.027794871136720793\n",
      "R-squared Score: 0.9878626723576668\n"
     ]
    }
   ],
   "source": [
    "#TRAIN AND IMPROVING MODEL\n",
    "from sklearn.ensemble import RandomForestRegressor\n",
    "from sklearn.metrics import mean_squared_error, r2_score\n",
    "\n",
    "model = RandomForestRegressor(n_estimators=100, random_state=42)\n",
    "model.fit(X_train, y_train)\n",
    "y_pred = model.predict(X_test)\n",
    "mse = mean_squared_error(y_test, y_pred)\n",
    "r2 = r2_score(y_test, y_pred)\n",
    "\n",
    "print(\"Model Evaluation:\")\n",
    "print(f\"Mean Squared Error: {mse}\")\n",
    "print(f\"R-squared Score: {r2}\")"
   ]
  },
  {
   "cell_type": "code",
   "execution_count": 5,
   "id": "e705d6cb",
   "metadata": {},
   "outputs": [
    {
     "name": "stdout",
     "output_type": "stream",
     "text": [
      "\n",
      "Feature Importance:\n",
      "                 Feature  Importance\n",
      "19                 Votes    0.899632\n",
      "17          Rating color    0.083550\n",
      "18           Rating text    0.005334\n",
      "0          Restaurant ID    0.002279\n",
      "7              Longitude    0.001365\n",
      "1        Restaurant Name    0.001287\n",
      "4                Address    0.001270\n",
      "9               Cuisines    0.001257\n",
      "8               Latitude    0.001201\n",
      "10  Average Cost for two    0.000876\n",
      "5               Locality    0.000591\n",
      "6       Locality Verbose    0.000574\n",
      "13   Has Online delivery    0.000318\n",
      "3                   City    0.000188\n",
      "16           Price range    0.000141\n",
      "12     Has Table booking    0.000070\n",
      "14     Is delivering now    0.000030\n",
      "11              Currency    0.000023\n",
      "2           Country Code    0.000017\n",
      "15  Switch to order menu    0.000000\n",
      "\n",
      "Top 10 Most Important Features:\n",
      "                 Feature  Importance\n",
      "19                 Votes    0.899632\n",
      "17          Rating color    0.083550\n",
      "18           Rating text    0.005334\n",
      "0          Restaurant ID    0.002279\n",
      "7              Longitude    0.001365\n",
      "1        Restaurant Name    0.001287\n",
      "4                Address    0.001270\n",
      "9               Cuisines    0.001257\n",
      "8               Latitude    0.001201\n",
      "10  Average Cost for two    0.000876\n"
     ]
    }
   ],
   "source": [
    "#FEATURE ANALYSIS\n",
    "importances = model.feature_importances_\n",
    "feature_names = X.columns\n",
    "feature_importance = pd.DataFrame({'Feature': feature_names, 'Importance': importances})\n",
    "feature_importance = feature_importance.sort_values(by='Importance', ascending=False)\n",
    "\n",
    "print(\"\\nFeature Importance:\")\n",
    "print(feature_importance)\n",
    "print(\"\\nTop 10 Most Important Features:\")\n",
    "print(feature_importance.head(10))"
   ]
  },
  {
   "cell_type": "code",
   "execution_count": 6,
   "id": "2c7aa2cd",
   "metadata": {},
   "outputs": [
    {
     "name": "stdout",
     "output_type": "stream",
     "text": [
      "\n",
      "Cross-Validation R-squared Scores: [0.9852055  0.98486888 0.98808431 0.98711139 0.98888778]\n",
      "Average CV R-squared: 0.9868315719916888\n",
      "Standard Deviation: 0.0015730158306778092\n"
     ]
    }
   ],
   "source": [
    "#SAVE RESULTS AND MODEL\n",
    "from sklearn.model_selection import cross_val_score\n",
    "from sklearn.ensemble import RandomForestRegressor\n",
    "\n",
    "model = RandomForestRegressor(n_estimators=100, random_state=42)\n",
    "cv_scores = cross_val_score(model, X, y, cv=5, scoring='r2')\n",
    "print(\"\\nCross-Validation R-squared Scores:\", cv_scores)\n",
    "print(\"Average CV R-squared:\", cv_scores.mean())\n",
    "print(\"Standard Deviation:\", cv_scores.std())"
   ]
  },
  {
   "cell_type": "code",
   "execution_count": 8,
   "id": "b2bed9c8",
   "metadata": {},
   "outputs": [
    {
     "name": "stdout",
     "output_type": "stream",
     "text": [
      "Improved model saved as 'restaurant_rating_model_improved.pkl'.\n",
      "Progress saved to 'task2_progress.txt'.\n"
     ]
    }
   ],
   "source": [
    "import joblib\n",
    "joblib.dump(model, 'D:\\PardivReddy_Cognifyz\\content/Restaurant_rating_improved_model.pkl')\n",
    "print(\"Improved model saved as 'restaurant_rating_model_improved.pkl'.\")\n",
    "\n",
    "with open('D:\\PardivReddy_Cognifyz\\content/task2_progress.txt', 'w') as f:\n",
    "    f.write(\"Task 2 Completion Report \")\n",
    "    f.write(f\"Mean Squared Error: {mse}\\n\")\n",
    "    f.write(f\"R-squared Score: {r2}\\n\")\n",
    "    f.write(\"Used RandomForestRegressor and analyzed feature importance.\\n\")\n",
    "print(\"Progress saved to 'task2_progress.txt'.\")"
   ]
  }
 ],
 "metadata": {
  "kernelspec": {
   "display_name": ".venv",
   "language": "python",
   "name": "python3"
  },
  "language_info": {
   "codemirror_mode": {
    "name": "ipython",
    "version": 3
   },
   "file_extension": ".py",
   "mimetype": "text/x-python",
   "name": "python",
   "nbconvert_exporter": "python",
   "pygments_lexer": "ipython3",
   "version": "3.10.6"
  }
 },
 "nbformat": 4,
 "nbformat_minor": 5
}

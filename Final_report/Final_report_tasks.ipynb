{
 "cells": [
  {
   "cell_type": "code",
   "execution_count": null,
   "id": "237cbf39",
   "metadata": {
    "vscode": {
     "languageId": "plaintext"
    }
   },
   "outputs": [],
   "source": [
    "with open('/content/final_internship_report.txt', 'w') as f:\n",
    "    f.write(\"Cognifyz ML Internship - Final Report\")\n",
    "    f.write(\"Completed Tasks: 1, 2, 4\\n\\n\")\n",
    "    f.write(\"Task 1 Summary: Preprocessed data, trained LinearRegression (MSE: ~0.03, R²: ~0.98).\\n\")\n",
    "    f.write(\"Task 2 Summary: Improved with RandomForestRegressor (R²: 0.9879, CV R²: 0.9868).\\n\")\n",
    "    f.write(\"Task 4 Summary: Geographical analysis with maps, city stats, and insights (e.g., high concentration in major cities).\\n\\n\")\n",
    "    f.write(\"Files Generated:\\n- preprocessed_data.csv\\n- restaurant_rating_model_final.pkl\\n- task1_progress.txt\\n- task2_progress.txt\\n- task4_analysis.txt\\n\")\n",
    "print(\"Final report saved as 'final_internship_report.txt'.\")"
   ]
  }
 ],
 "metadata": {
  "language_info": {
   "name": "python"
  }
 },
 "nbformat": 4,
 "nbformat_minor": 5
}

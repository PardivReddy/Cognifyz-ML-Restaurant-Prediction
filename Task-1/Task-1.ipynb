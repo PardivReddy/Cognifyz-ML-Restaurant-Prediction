{
 "cells": [
  {
   "cell_type": "code",
   "execution_count": 1,
   "id": "ef438ff1",
   "metadata": {},
   "outputs": [
    {
     "ename": "ModuleNotFoundError",
     "evalue": "No module named 'pandas'",
     "output_type": "error",
     "traceback": [
      "\u001b[1;31m---------------------------------------------------------------------------\u001b[0m",
      "\u001b[1;31mModuleNotFoundError\u001b[0m                       Traceback (most recent call last)",
      "Cell \u001b[1;32mIn[1], line 3\u001b[0m\n\u001b[0;32m      1\u001b[0m \u001b[38;5;66;03m#PREDICT RESTAURANT RATINGS\u001b[39;00m\n\u001b[0;32m      2\u001b[0m \u001b[38;5;66;03m#LAODING AND PREPARING THE DATA\u001b[39;00m\n\u001b[1;32m----> 3\u001b[0m \u001b[38;5;28;01mimport\u001b[39;00m\u001b[38;5;250m \u001b[39m\u001b[38;5;21;01mpandas\u001b[39;00m\u001b[38;5;250m \u001b[39m\u001b[38;5;28;01mas\u001b[39;00m\u001b[38;5;250m \u001b[39m\u001b[38;5;21;01mpd\u001b[39;00m\n\u001b[0;32m      4\u001b[0m \u001b[38;5;28;01mimport\u001b[39;00m\u001b[38;5;250m \u001b[39m\u001b[38;5;21;01mnumpy\u001b[39;00m\u001b[38;5;250m \u001b[39m\u001b[38;5;28;01mas\u001b[39;00m\u001b[38;5;250m \u001b[39m\u001b[38;5;21;01mnp\u001b[39;00m\n\u001b[0;32m      5\u001b[0m \u001b[38;5;28;01mfrom\u001b[39;00m\u001b[38;5;250m \u001b[39m\u001b[38;5;21;01msklearn\u001b[39;00m\u001b[38;5;21;01m.\u001b[39;00m\u001b[38;5;21;01mmodel_selection\u001b[39;00m\u001b[38;5;250m \u001b[39m\u001b[38;5;28;01mimport\u001b[39;00m train_test_split\n",
      "\u001b[1;31mModuleNotFoundError\u001b[0m: No module named 'pandas'"
     ]
    }
   ],
   "source": [
    "#PREDICT RESTAURANT RATINGS\n",
    "#LAODING AND PREPARING THE DATA\n",
    "import pandas as pd\n",
    "import numpy as np\n",
    "from sklearn.model_selection import train_test_split\n",
    "from sklearn.preprocessing import LabelEncoder\n",
    "from sklearn.impute import SimpleImputer\n",
    "\n",
    "data = pd.read_csv('D:\\PardivReddy_Cognifyz\\content\\Dataset .csv')\n",
    "imputer = SimpleImputer(strategy='mean')\n",
    "data['Aggregate rating'] = imputer.fit_transform(data[['Aggregate rating']])\n",
    "data = data.dropna()\n",
    "categorical_cols = data.select_dtypes(include=['object']).columns\n",
    "le = LabelEncoder()\n",
    "for col in categorical_cols:\n",
    "    data[col] = le.fit_transform(data[col])\n",
    "\n",
    "X = data.drop(['Aggregate rating'], axis=1)\n",
    "y = data['Aggregate rating']\n",
    "X_train, X_test, y_train, y_test = train_test_split(X, y, test_size=0.2, random_state=42)\n",
    "\n",
    "print(\"X_train columns and types:\")\n",
    "print(X_train.dtypes)\n",
    "\n",
    "data.to_csv('D:\\PardivReddy_Cognifyz\\content\\preprocessed_data.csv', index=False)\n",
    "print(\"Data preprocessing completed. First 5 rows:\")\n",
    "print(data.head())"
   ]
  },
  {
   "cell_type": "code",
   "execution_count": 13,
   "id": "f15f59cd",
   "metadata": {},
   "outputs": [
    {
     "name": "stdout",
     "output_type": "stream",
     "text": [
      "Mean Squared Error (MSE): 1.1201694876761885\n",
      "R-squared Score (R²): 0.5108498967311825\n",
      "Model saved as 'restaurant_rating_model.pkl'.\n"
     ]
    }
   ],
   "source": [
    "#TRAIN THE MODEL\n",
    "from sklearn.linear_model import LinearRegression\n",
    "from sklearn.metrics import mean_squared_error, r2_score\n",
    "import joblib\n",
    "\n",
    "model = LinearRegression()\n",
    "model.fit(X_train, y_train)\n",
    "y_pred = model.predict(X_test)\n",
    "mse = mean_squared_error(y_test, y_pred)\n",
    "r2 = r2_score(y_test, y_pred)\n",
    "print(f\"Mean Squared Error (MSE): {mse}\")\n",
    "print(f\"R-squared Score (R²): {r2}\")\n",
    "joblib.dump(model, 'D:\\PardivReddy_Cognifyz\\content/restaurant_rating_model.pkl')\n",
    "print(\"Model saved as 'restaurant_rating_model.pkl'.\")"
   ]
  },
  {
   "cell_type": "code",
   "execution_count": 14,
   "id": "6cdc6ca0",
   "metadata": {},
   "outputs": [
    {
     "name": "stdout",
     "output_type": "stream",
     "text": [
      "\n",
      "Feature Importance (Coefficients):\n",
      "                 Feature   Coefficient\n",
      "13   Has Online delivery  6.736047e-01\n",
      "16           Price range  4.824453e-01\n",
      "2           Country Code  6.667082e-03\n",
      "7              Longitude  1.152602e-03\n",
      "6       Locality Verbose  6.227890e-04\n",
      "19                 Votes  4.740969e-04\n",
      "1        Restaurant Name  6.892236e-06\n",
      "10  Average Cost for two  7.081402e-07\n",
      "15  Switch to order menu -4.440892e-16\n",
      "0          Restaurant ID -3.528815e-08\n",
      "4                Address -2.649922e-05\n",
      "9               Cuisines -2.229122e-04\n",
      "5               Locality -9.549830e-04\n",
      "8               Latitude -2.295412e-03\n",
      "3                   City -3.016573e-03\n",
      "12     Has Table booking -1.751525e-02\n",
      "11              Currency -8.936604e-02\n",
      "14     Is delivering now -1.774887e-01\n",
      "17          Rating color -1.948716e-01\n",
      "18           Rating text -2.016371e-01\n",
      "Progress saved to 'task1_progress.txt'.\n"
     ]
    }
   ],
   "source": [
    "# ANALYZE AND DOCUMENTING\n",
    "print(\"\\nFeature Importance (Coefficients):\")\n",
    "coefficients = pd.DataFrame({'Feature': X.columns, 'Coefficient': model.coef_})\n",
    "print(coefficients.sort_values(by='Coefficient', ascending=False))\n",
    "with open('D:/PardivReddy_Cognifyz/content/task1_progress.txt', 'w') as f:\n",
    "    f.write(\"Task 1 Completion Report\\n\")\n",
    "    f.write(f\"Mean Squared Error: {mse}\\n\")\n",
    "    f.write(f\"R-squared Score: {r2}\\n\")\n",
    "    f.write(\"Preprocessed data and model saved locally. Fixed string-to-float error.\\n\")\n",
    "print(\"Progress saved to 'task1_progress.txt'.\")"
   ]
  }
 ],
 "metadata": {
  "kernelspec": {
   "display_name": "Python 3",
   "language": "python",
   "name": "python3"
  },
  "language_info": {
   "codemirror_mode": {
    "name": "ipython",
    "version": 3
   },
   "file_extension": ".py",
   "mimetype": "text/x-python",
   "name": "python",
   "nbconvert_exporter": "python",
   "pygments_lexer": "ipython3",
   "version": "3.10.6"
  }
 },
 "nbformat": 4,
 "nbformat_minor": 5
}
